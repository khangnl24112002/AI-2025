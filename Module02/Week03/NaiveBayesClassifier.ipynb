{
 "cells": [
  {
   "cell_type": "code",
   "execution_count": 18,
   "id": "690399fb",
   "metadata": {},
   "outputs": [],
   "source": [
    "import numpy as np"
   ]
  },
  {
   "cell_type": "code",
   "execution_count": null,
   "id": "da44e807",
   "metadata": {},
   "outputs": [],
   "source": [
    "class NaiveBayesClassifier:\n",
    "    def __init__(self):\n",
    "        self.class_priors = {}\n",
    "        self.likelihoods = {}\n",
    "        self.classes = None\n",
    "        pass\n",
    "    def fit(self, data):\n",
    "        X = data[:,:-1]\n",
    "        y = data[:,-1]\n",
    "        self.classes, class_counts = np.unique(y, return_counts = True)\n",
    "        n_samples = len(y)\n",
    "        # Compute priors P(Y)\n",
    "        self.class_priors = class_counts / n_samples\n",
    "        # Compute likelihoods P(Xi|Y)\n",
    "        self.cond_probs = {}\n",
    "        for c in self.classes:\n",
    "            X_c = X[y == c]\n",
    "            self.cond_probs[c] = []\n",
    "            for i in range(X.shape[1]):\n",
    "                feature_values, feature_counts = np.unique(X_c[:, i], return_counts = True)\n",
    "                probs = dict(zip(feature_values, feature_counts / len(X_c)))\n",
    "                self.cond_probs[c].append(probs) \n",
    "    def predict(self, X):\n",
    "        preds = []\n",
    "        for sample in X:\n",
    "            class_probs = []\n",
    "            for idx, c in enumerate(self.classes):\n",
    "                prob = self.class_priors[idx]\n",
    "                for i, x_val in enumerate(sample):\n",
    "                    prob *= self.cond_probs[c][i].get(x_val, 0)\n",
    "                class_probs.append(prob)\n",
    "            preds.append(self.classes[np.argmax(class_probs)])\n",
    "        return np.array(preds)"
   ]
  },
  {
   "cell_type": "code",
   "execution_count": 86,
   "id": "9f2ac669",
   "metadata": {},
   "outputs": [
    {
     "name": "stdout",
     "output_type": "stream",
     "text": [
      "{np.str_('no'): [{np.str_('Overcast'): np.float64(0.25), np.str_('Rain'): np.float64(0.25), np.str_('Sunny'): np.float64(0.5)}, {np.str_('Cool'): np.float64(0.25), np.str_('Hot'): np.float64(0.5), np.str_('Mild'): np.float64(0.25)}, {np.str_('High'): np.float64(0.75), np.str_('Normal'): np.float64(0.25)}, {np.str_('Strong'): np.float64(0.5), np.str_('Weak'): np.float64(0.5)}], np.str_('yes'): [{np.str_('Overcast'): np.float64(0.3333333333333333), np.str_('Rain'): np.float64(0.5), np.str_('Sunny'): np.float64(0.16666666666666666)}, {np.str_('Cool'): np.float64(0.5), np.str_('Hot'): np.float64(0.16666666666666666), np.str_('Mild'): np.float64(0.3333333333333333)}, {np.str_('High'): np.float64(0.3333333333333333), np.str_('Normal'): np.float64(0.6666666666666666)}, {np.str_('Strong'): np.float64(0.16666666666666666), np.str_('Weak'): np.float64(0.8333333333333334)}]}\n",
      "Predictions:  ['no' 'yes']\n"
     ]
    }
   ],
   "source": [
    "data = np.array([\n",
    "        [\"Sunny\", \"Hot\", \"High\", \"Weak\", \"no\"],\n",
    "        [\"Sunny\", \"Hot\", \"High\", \"Strong\", \"no\"],\n",
    "        [\"Overcast\", \"Hot\", \"High\", \"Weak\", \"yes\"],\n",
    "        [\"Rain\", \"Mild\", \"High\", \"Weak\", \"yes\"],\n",
    "        [\"Rain\", \"Cool\", \"Normal\", \"Weak\", \"yes\"],\n",
    "        [\"Rain\", \"Cool\", \"Normal\", \"Strong\", \"no\"],\n",
    "        [\"Overcast\", \"Cool\", \"Normal\", \"Strong\", \"yes\"],\n",
    "        [\"Overcast\", \"Mild\", \"High\", \"Weak\", \"no\"],\n",
    "        [\"Sunny\", \"Cool\", \"Normal\", \"Weak\", \"yes\"],\n",
    "        [\"Rain\", \"Mild\", \"Normal\", \"Weak\", \"yes\"],\n",
    "    ])\n",
    "\n",
    "nb = NaiveBayesClassifier()\n",
    "nb.fit(data)\n",
    "test = np.array([\n",
    "    ['Sunny', 'Cool', 'High', 'Strong'],\n",
    "    ['Rain', 'Mild', 'Normal', 'Weak']\n",
    "])\n",
    "print('Predictions: ', nb.predict(test))"
   ]
  },
  {
   "cell_type": "code",
   "execution_count": null,
   "id": "3116b576",
   "metadata": {},
   "outputs": [],
   "source": []
  },
  {
   "cell_type": "code",
   "execution_count": null,
   "id": "c0992064",
   "metadata": {},
   "outputs": [],
   "source": []
  }
 ],
 "metadata": {
  "kernelspec": {
   "display_name": ".venv",
   "language": "python",
   "name": "python3"
  },
  "language_info": {
   "codemirror_mode": {
    "name": "ipython",
    "version": 3
   },
   "file_extension": ".py",
   "mimetype": "text/x-python",
   "name": "python",
   "nbconvert_exporter": "python",
   "pygments_lexer": "ipython3",
   "version": "3.12.4"
  }
 },
 "nbformat": 4,
 "nbformat_minor": 5
}
