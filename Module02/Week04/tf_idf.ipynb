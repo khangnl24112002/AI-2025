{
 "cells": [
  {
   "cell_type": "code",
   "execution_count": 1,
   "id": "f5c39e72",
   "metadata": {},
   "outputs": [],
   "source": [
    "import pandas as pd\n",
    "import numpy as np\n",
    "from sklearn.feature_extraction.text import TfidfVectorizer"
   ]
  },
  {
   "cell_type": "code",
   "execution_count": 2,
   "id": "4f636b66",
   "metadata": {},
   "outputs": [
    {
     "data": {
      "text/html": [
       "<div>\n",
       "<style scoped>\n",
       "    .dataframe tbody tr th:only-of-type {\n",
       "        vertical-align: middle;\n",
       "    }\n",
       "\n",
       "    .dataframe tbody tr th {\n",
       "        vertical-align: top;\n",
       "    }\n",
       "\n",
       "    .dataframe thead th {\n",
       "        text-align: right;\n",
       "    }\n",
       "</style>\n",
       "<table border=\"1\" class=\"dataframe\">\n",
       "  <thead>\n",
       "    <tr style=\"text-align: right;\">\n",
       "      <th></th>\n",
       "      <th>id</th>\n",
       "      <th>question</th>\n",
       "      <th>text</th>\n",
       "    </tr>\n",
       "  </thead>\n",
       "  <tbody>\n",
       "    <tr>\n",
       "      <th>0</th>\n",
       "      <td>1570446247</td>\n",
       "      <td>Quang Hải giành được chức vô địch U21 quốc gia...</td>\n",
       "      <td>Năm 2013 , Nguyễn Quang Hải giành chức vô địch...</td>\n",
       "    </tr>\n",
       "    <tr>\n",
       "      <th>1</th>\n",
       "      <td>1570445661</td>\n",
       "      <td>Mỗi hiệp bóng đá kéo dài bao lâu</td>\n",
       "      <td>Một trận đấu bóng đá thông thường có hai hiệp ...</td>\n",
       "    </tr>\n",
       "    <tr>\n",
       "      <th>2</th>\n",
       "      <td>1570382095</td>\n",
       "      <td>Quân đội Hoa Kỳ gồm những lực lượng nào</td>\n",
       "      <td>Quân đội Hoa Kỳ hay Các lực lượng vũ trang Hoa...</td>\n",
       "    </tr>\n",
       "    <tr>\n",
       "      <th>3</th>\n",
       "      <td>1570382072</td>\n",
       "      <td>Ngọc Lan là ai</td>\n",
       "      <td>Ngọc Lan ( 28 tháng 12 năm 1956 - 6 tháng 3 20...</td>\n",
       "    </tr>\n",
       "    <tr>\n",
       "      <th>4</th>\n",
       "      <td>1570382037</td>\n",
       "      <td>Thu Phương từng được những giải thưởng nào</td>\n",
       "      <td>Cô được coi là một trong những ca sĩ thuộc thế...</td>\n",
       "    </tr>\n",
       "    <tr>\n",
       "      <th>...</th>\n",
       "      <td>...</td>\n",
       "      <td>...</td>\n",
       "      <td>...</td>\n",
       "    </tr>\n",
       "    <tr>\n",
       "      <th>495</th>\n",
       "      <td>1569486091</td>\n",
       "      <td>Dân số của Sóc Trăng đứng thứ mấy trong khu vự...</td>\n",
       "      <td>Sóc Trăng là một tỉnh ven biển thuộc đồng bằng...</td>\n",
       "    </tr>\n",
       "    <tr>\n",
       "      <th>496</th>\n",
       "      <td>1569486072</td>\n",
       "      <td>Các nguyên lý toán học của triết học tự nhiên ...</td>\n",
       "      <td>Đây là những điều cơ bản tiên quyết của cơ học...</td>\n",
       "    </tr>\n",
       "    <tr>\n",
       "      <th>497</th>\n",
       "      <td>1569486003</td>\n",
       "      <td>Biến đổi khí hậu Trái Đất là gì</td>\n",
       "      <td>Biến đổi khí hậu là những biến đổi trong môi t...</td>\n",
       "    </tr>\n",
       "    <tr>\n",
       "      <th>498</th>\n",
       "      <td>1569485614</td>\n",
       "      <td>Phanxicô Xaviê Trương Bửu Diệp mất vào năm nào</td>\n",
       "      <td>Phanxicô Xaviê Trương Bửu Diệp ( 1 tháng 1 năm...</td>\n",
       "    </tr>\n",
       "    <tr>\n",
       "      <th>499</th>\n",
       "      <td>1569485573</td>\n",
       "      <td>Mật độ dân số của vùng trung du và miền núi ph...</td>\n",
       "      <td>Vùng trung du miền núi phía bắc , trước năm 19...</td>\n",
       "    </tr>\n",
       "  </tbody>\n",
       "</table>\n",
       "<p>500 rows × 3 columns</p>\n",
       "</div>"
      ],
      "text/plain": [
       "             id                                           question  \\\n",
       "0    1570446247  Quang Hải giành được chức vô địch U21 quốc gia...   \n",
       "1    1570445661                   Mỗi hiệp bóng đá kéo dài bao lâu   \n",
       "2    1570382095            Quân đội Hoa Kỳ gồm những lực lượng nào   \n",
       "3    1570382072                                     Ngọc Lan là ai   \n",
       "4    1570382037         Thu Phương từng được những giải thưởng nào   \n",
       "..          ...                                                ...   \n",
       "495  1569486091  Dân số của Sóc Trăng đứng thứ mấy trong khu vự...   \n",
       "496  1569486072  Các nguyên lý toán học của triết học tự nhiên ...   \n",
       "497  1569486003                    Biến đổi khí hậu Trái Đất là gì   \n",
       "498  1569485614     Phanxicô Xaviê Trương Bửu Diệp mất vào năm nào   \n",
       "499  1569485573  Mật độ dân số của vùng trung du và miền núi ph...   \n",
       "\n",
       "                                                  text  \n",
       "0    Năm 2013 , Nguyễn Quang Hải giành chức vô địch...  \n",
       "1    Một trận đấu bóng đá thông thường có hai hiệp ...  \n",
       "2    Quân đội Hoa Kỳ hay Các lực lượng vũ trang Hoa...  \n",
       "3    Ngọc Lan ( 28 tháng 12 năm 1956 - 6 tháng 3 20...  \n",
       "4    Cô được coi là một trong những ca sĩ thuộc thế...  \n",
       "..                                                 ...  \n",
       "495  Sóc Trăng là một tỉnh ven biển thuộc đồng bằng...  \n",
       "496  Đây là những điều cơ bản tiên quyết của cơ học...  \n",
       "497  Biến đổi khí hậu là những biến đổi trong môi t...  \n",
       "498  Phanxicô Xaviê Trương Bửu Diệp ( 1 tháng 1 năm...  \n",
       "499  Vùng trung du miền núi phía bắc , trước năm 19...  \n",
       "\n",
       "[500 rows x 3 columns]"
      ]
     },
     "execution_count": 2,
     "metadata": {},
     "output_type": "execute_result"
    }
   ],
   "source": [
    "vi_data_df = pd.read_csv('./vi_text_retrieval.csv')\n",
    "vi_data_df"
   ]
  },
  {
   "cell_type": "code",
   "execution_count": 4,
   "id": "898804c4",
   "metadata": {},
   "outputs": [
    {
     "data": {
      "text/plain": [
       "['năm 2013 , nguyễn quang hải giành chức vô địch u21 quốc gia 2013 cùng với đội trẻ hà nội t&t và tạo nên cú sốc khi trở thành cầu thủ 16 tuổi đầu tiên giành được danh hiệu vô địch u21 quốc gia .',\n",
       " 'một trận đấu bóng đá thông thường có hai hiệp , mỗi hiệp 45 phút với khoảng thời gian 15 phút nghỉ giữa hai hiệp .',\n",
       " 'quân đội hoa kỳ hay các lực lượng vũ trang hoa kỳ là tổng hợp các lực lượng quân sự thống nhất của hoa kỳ . các lực lượng này gồm có lục quân , hải quân , thuỷ quân lục chiến , không quân và tuần duyên .',\n",
       " 'ngọc lan ( 28 tháng 12 năm 1956 - 6 tháng 3 2001 ) là một ca sĩ hải ngoại nổi tiếng . không chỉ với giọng hát , cô còn được khán giả đặc biệt yêu mến vì khuôn mặt khả ái và tính cách nhút nhát , khiêm tốn của mình .',\n",
       " 'cô được coi là một trong những ca sĩ thuộc thế hệ thứ hai của nền nhạc nhẹ việt nam đạt được nhiều giải thưởng nhất .']"
      ]
     },
     "execution_count": 4,
     "metadata": {},
     "output_type": "execute_result"
    }
   ],
   "source": [
    "context = vi_data_df['text']\n",
    "context = [doc.lower() for doc in context]\n",
    "context[:5]"
   ]
  },
  {
   "cell_type": "code",
   "execution_count": 8,
   "id": "0d40f8ed",
   "metadata": {},
   "outputs": [
    {
     "data": {
      "text/plain": [
       "<Compressed Sparse Row sparse matrix of dtype 'float64'\n",
       "\twith 21518 stored elements and shape (500, 2913)>"
      ]
     },
     "execution_count": 8,
     "metadata": {},
     "output_type": "execute_result"
    }
   ],
   "source": [
    "tf_idf_vectorizer = TfidfVectorizer()\n",
    "context_embedded = tf_idf_vectorizer.fit_transform(context)\n",
    "context_embedded"
   ]
  },
  {
   "cell_type": "code",
   "execution_count": 15,
   "id": "728f5562",
   "metadata": {},
   "outputs": [],
   "source": [
    "question = vi_data_df.iloc[0]['question']\n",
    "question = 'Hiệp đá trên Trái Đất vào năm nào'"
   ]
  },
  {
   "cell_type": "code",
   "execution_count": 16,
   "id": "7463bd80",
   "metadata": {},
   "outputs": [
    {
     "data": {
      "text/plain": [
       "array([[0., 0., 0., ..., 0., 0., 0.]], shape=(1, 2913))"
      ]
     },
     "execution_count": 16,
     "metadata": {},
     "output_type": "execute_result"
    }
   ],
   "source": [
    "query_embedded = tf_idf_vectorizer.transform([question.lower()])\n",
    "query_embedded.toarray()"
   ]
  },
  {
   "cell_type": "code",
   "execution_count": 17,
   "id": "3d9a3c0c",
   "metadata": {},
   "outputs": [
    {
     "data": {
      "text/plain": [
       "array([0.00858199, 0.23035413, 0.        , 0.00931834, 0.        ,\n",
       "       0.        , 0.00686735, 0.012052  , 0.        , 0.03966886,\n",
       "       0.0509008 , 0.0463303 , 0.02732664, 0.        , 0.0089329 ,\n",
       "       0.04482493, 0.05950602, 0.0123615 , 0.        , 0.02176492,\n",
       "       0.        , 0.06929769, 0.0545961 , 0.02252141, 0.0463303 ,\n",
       "       0.        , 0.01017238, 0.03892539, 0.03115055, 0.        ,\n",
       "       0.03997883, 0.        , 0.        , 0.03808921, 0.00628915,\n",
       "       0.        , 0.0064195 , 0.01823024, 0.        , 0.        ,\n",
       "       0.02187966, 0.01952018, 0.04691699, 0.        , 0.04543785,\n",
       "       0.        , 0.01430771, 0.02036624, 0.11936621, 0.15285843,\n",
       "       0.0097733 , 0.0271614 , 0.01624715, 0.        , 0.        ,\n",
       "       0.00715417, 0.01946015, 0.07471554, 0.11936621, 0.01816844,\n",
       "       0.01234523, 0.03620717, 0.        , 0.        , 0.03613066,\n",
       "       0.01623397, 0.03526587, 0.01339396, 0.        , 0.        ,\n",
       "       0.01623397, 0.        , 0.        , 0.0064195 , 0.01935285,\n",
       "       0.        , 0.02120245, 0.        , 0.        , 0.        ,\n",
       "       0.00807984, 0.        , 0.        , 0.00679235, 0.04762042,\n",
       "       0.04069314, 0.02449939, 0.0545961 , 0.03808968, 0.03228285,\n",
       "       0.01339396, 0.03852308, 0.03712498, 0.05283677, 0.        ,\n",
       "       0.01275739, 0.01710896, 0.01435829, 0.        , 0.        ,\n",
       "       0.03681644, 0.02259527, 0.00961886, 0.0306731 , 0.02598039,\n",
       "       0.        , 0.        , 0.02192292, 0.        , 0.06380017,\n",
       "       0.        , 0.01515804, 0.06732877, 0.01714079, 0.03803648,\n",
       "       0.12715321, 0.01222613, 0.        , 0.        , 0.06249107,\n",
       "       0.00729005, 0.08329016, 0.        , 0.02532573, 0.        ,\n",
       "       0.11936621, 0.        , 0.03326427, 0.02170862, 0.03710732,\n",
       "       0.        , 0.00709271, 0.        , 0.        , 0.01310116,\n",
       "       0.        , 0.02119187, 0.03469963, 0.        , 0.12011198,\n",
       "       0.05968297, 0.        , 0.12715321, 0.        , 0.03620717,\n",
       "       0.        , 0.        , 0.        , 0.        , 0.01845546,\n",
       "       0.0220935 , 0.05965028, 0.05664508, 0.04359503, 0.        ,\n",
       "       0.        , 0.        , 0.        , 0.        , 0.        ,\n",
       "       0.03865358, 0.01429635, 0.02591306, 0.05664508, 0.11936621,\n",
       "       0.        , 0.05686132, 0.        , 0.03626688, 0.02251898,\n",
       "       0.        , 0.        , 0.01714079, 0.02583289, 0.02018051,\n",
       "       0.00836665, 0.01841925, 0.01210298, 0.01572524, 0.00669833,\n",
       "       0.        , 0.        , 0.03094339, 0.0149715 , 0.03093751,\n",
       "       0.02158199, 0.02798966, 0.02809371, 0.03316499, 0.04126265,\n",
       "       0.06893378, 0.02969522, 0.02535631, 0.08925001, 0.11559601,\n",
       "       0.01787196, 0.        , 0.02712906, 0.        , 0.00935216,\n",
       "       0.10396854, 0.01017238, 0.01867199, 0.01349079, 0.00701959,\n",
       "       0.        , 0.01515804, 0.        , 0.        , 0.05950602,\n",
       "       0.01351319, 0.        , 0.02251898, 0.00714925, 0.00860159,\n",
       "       0.        , 0.00863554, 0.00873637, 0.        , 0.03666764,\n",
       "       0.        , 0.04383921, 0.03936801, 0.0486026 , 0.00704596,\n",
       "       0.02433977, 0.        , 0.01939489, 0.        , 0.0199475 ,\n",
       "       0.        , 0.02809371, 0.        , 0.01565605, 0.01793531,\n",
       "       0.13822119, 0.00846657, 0.04834309, 0.02230933, 0.0397451 ,\n",
       "       0.03070104, 0.0213021 , 0.00659763, 0.05285225, 0.        ,\n",
       "       0.01376295, 0.        , 0.        , 0.        , 0.        ,\n",
       "       0.05539127, 0.06771175, 0.02158199, 0.019561  , 0.        ,\n",
       "       0.        , 0.00576136, 0.01414046, 0.00974815, 0.        ,\n",
       "       0.03260202, 0.04215736, 0.01051538, 0.        , 0.07555762,\n",
       "       0.02684388, 0.03595773, 0.0510751 , 0.01275895, 0.00714925,\n",
       "       0.01672533, 0.        , 0.11226389, 0.00820385, 0.        ,\n",
       "       0.02712458, 0.        , 0.01350477, 0.03084796, 0.12581773,\n",
       "       0.13822119, 0.05885221, 0.04011197, 0.04691699, 0.01861579,\n",
       "       0.05455159, 0.        , 0.02574082, 0.01279672, 0.05283677,\n",
       "       0.01414046, 0.01155176, 0.04063149, 0.03734151, 0.01778554,\n",
       "       0.05539127, 0.01304645, 0.        , 0.        , 0.00800423,\n",
       "       0.01863653, 0.03829611, 0.        , 0.01144054, 0.        ,\n",
       "       0.        , 0.01056113, 0.        , 0.        , 0.        ,\n",
       "       0.00935216, 0.01633344, 0.05686132, 0.0411071 , 0.04512872,\n",
       "       0.05478625, 0.22270744, 0.01417648, 0.00528142, 0.01375517,\n",
       "       0.04222546, 0.02401243, 0.00528142, 0.        , 0.0644201 ,\n",
       "       0.04840659, 0.03163309, 0.02529511, 0.        , 0.02790835,\n",
       "       0.01144054, 0.0441658 , 0.        , 0.        , 0.        ,\n",
       "       0.02431388, 0.        , 0.        , 0.07069901, 0.01247981,\n",
       "       0.03448164, 0.0213021 , 0.        , 0.        , 0.03807418,\n",
       "       0.        , 0.0492355 , 0.06437993, 0.        , 0.01803511,\n",
       "       0.01533591, 0.03734151, 0.02572713, 0.        , 0.01524785,\n",
       "       0.0216813 , 0.        , 0.02593542, 0.02167253, 0.        ,\n",
       "       0.        , 0.05686132, 0.06270329, 0.05715552, 0.01221152,\n",
       "       0.03936375, 0.0418888 , 0.04840659, 0.06019342, 0.        ,\n",
       "       0.        , 0.00634097, 0.10078542, 0.01470703, 0.        ,\n",
       "       0.06019342, 0.11223821, 0.1370164 , 0.        , 0.        ,\n",
       "       0.        , 0.0159018 , 0.        , 0.07951171, 0.        ,\n",
       "       0.02435586, 0.        , 0.        , 0.        , 0.        ,\n",
       "       0.        , 0.01693232, 0.05686132, 0.11909816, 0.03515409,\n",
       "       0.        , 0.01268329, 0.00848018, 0.01911449, 0.        ,\n",
       "       0.        , 0.01091464, 0.01123158, 0.        , 0.01476795,\n",
       "       0.03605536, 0.        , 0.        , 0.06324713, 0.07683191,\n",
       "       0.02111257, 0.        , 0.        , 0.11559601, 0.02106075,\n",
       "       0.00855694, 0.04698114, 0.00848018, 0.        , 0.04517864,\n",
       "       0.        , 0.        , 0.06199085, 0.        , 0.02355733,\n",
       "       0.        , 0.        , 0.01105819, 0.02722497, 0.01414046,\n",
       "       0.06615061, 0.02911335, 0.04840659, 0.        , 0.06117132,\n",
       "       0.0459144 , 0.        , 0.14153974, 0.06217927, 0.04203073,\n",
       "       0.07939867, 0.06019342, 0.        , 0.2926997 , 0.        ,\n",
       "       0.00716023, 0.        , 0.01045366, 0.01265572, 0.00782277,\n",
       "       0.        , 0.        , 0.        , 0.05682121, 0.05335871,\n",
       "       0.01084046, 0.01519801, 0.        , 0.02040878, 0.        ,\n",
       "       0.00661643, 0.        , 0.        , 0.00669075, 0.        ,\n",
       "       0.058225  , 0.08418108, 0.05629017, 0.03648551, 0.        ,\n",
       "       0.04425475, 0.01265572, 0.02564594, 0.05447374, 0.05610696,\n",
       "       0.        , 0.        , 0.        , 0.08196622, 0.02739992,\n",
       "       0.08018688, 0.0062173 , 0.        , 0.        , 0.00800861,\n",
       "       0.13888981, 0.01642568, 0.02819538, 0.01290183, 0.01265829,\n",
       "       0.        , 0.02717408, 0.04566515, 0.        , 0.01987714,\n",
       "       0.01265829, 0.01077312, 0.        , 0.01987714, 0.01082   ])"
      ]
     },
     "execution_count": 17,
     "metadata": {},
     "output_type": "execute_result"
    }
   ],
   "source": [
    "from sklearn.metrics.pairwise import cosine_similarity\n",
    "\n",
    "cosine_scores = cosine_similarity(context_embedded, query_embedded).reshape((-1, ))\n",
    "cosine_scores"
   ]
  },
  {
   "cell_type": "code",
   "execution_count": 18,
   "id": "6d07c9df",
   "metadata": {},
   "outputs": [
    {
     "name": "stdout",
     "output_type": "stream",
     "text": [
      "Score:  0.29269970430961884\n",
      "Tây Tạng là khu vực có cao độ lớn nhất trên Trái Đất , với độ cao trung bình là .\n",
      "=========\n",
      "Score:  0.23035413403056723\n",
      "Một trận đấu bóng đá thông thường có hai hiệp , mỗi hiệp 45 phút với khoảng thời gian 15 phút nghỉ giữa hai hiệp .\n",
      "=========\n",
      "Score:  0.22270743869086895\n",
      "Luật bóng đá là hệ thống quy định của FIFA trong việc chơi bóng đá , kể cả bóng đá trên sân cỏ chính thức , bóng đá trong nhà ... , áp dụng trên tất cả các nước .\n",
      "=========\n",
      "Score:  0.15285843141815958\n",
      "Dầu mỏ hay dầu thô là một chất lỏng sánh đặc màu nâu hoặc ngả lục . Dầu mỏ tồn tại trong các lớp đất đá tại một số nơi trong vỏ Trái Đất . Dầu mỏ là một hỗn hợp hoá chất hữu cơ ở thể lỏng đậm đặc , phần lớn là những hợp chất của hydrocarbon , thuộc gốc alkane , thành phần rất đa dạng .\n",
      "=========\n",
      "Score:  0.1415397367315263\n",
      "Dù là con số nào , nhà Chu vẫn là triều đại tồn tại lâu nhất trong lịch sử Trung Quốc .\n",
      "=========\n"
     ]
    }
   ],
   "source": [
    "top_d = 5\n",
    "for idx in cosine_scores.argsort()[-top_d:][::-1]:\n",
    "    print(\"Score: \", cosine_scores[idx])\n",
    "    print(vi_data_df.iloc[idx, 2])\n",
    "    print(\"=========\")"
   ]
  },
  {
   "cell_type": "code",
   "execution_count": null,
   "id": "fd999037",
   "metadata": {},
   "outputs": [],
   "source": []
  }
 ],
 "metadata": {
  "kernelspec": {
   "display_name": ".venv",
   "language": "python",
   "name": "python3"
  },
  "language_info": {
   "codemirror_mode": {
    "name": "ipython",
    "version": 3
   },
   "file_extension": ".py",
   "mimetype": "text/x-python",
   "name": "python",
   "nbconvert_exporter": "python",
   "pygments_lexer": "ipython3",
   "version": "3.13.7"
  }
 },
 "nbformat": 4,
 "nbformat_minor": 5
}
