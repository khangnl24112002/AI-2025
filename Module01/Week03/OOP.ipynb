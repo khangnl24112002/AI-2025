{
 "cells": [
  {
   "cell_type": "markdown",
   "id": "202d385e",
   "metadata": {},
   "source": [
    "### Ex1:\n",
    "\n",
    "Create and initiate softmax method"
   ]
  },
  {
   "cell_type": "code",
   "execution_count": 11,
   "id": "c376ea37",
   "metadata": {},
   "outputs": [
    {
     "data": {
      "text/plain": [
       "tensor([0.0900, 0.2447, 0.6652])"
      ]
     },
     "execution_count": 11,
     "metadata": {},
     "output_type": "execute_result"
    }
   ],
   "source": [
    "import torch\n",
    "import torch.nn as nn\n",
    "\n",
    "class MySoftmax(nn.Module):\n",
    "    def __init__(self):\n",
    "        super().__init__()\n",
    "    \n",
    "    def forward(self, x):\n",
    "        x_exp = torch.exp(x)\n",
    "        partition = x_exp.sum(0, keepdims=True)\n",
    "        return x_exp / partition\n",
    "\n",
    "data = torch.Tensor([1,2,3])\n",
    "my_softmax = MySoftmax()\n",
    "output = my_softmax(data)\n",
    "output"
   ]
  },
  {
   "cell_type": "code",
   "execution_count": 15,
   "id": "615a6406",
   "metadata": {},
   "outputs": [
    {
     "data": {
      "text/plain": [
       "tensor([0.0900, 0.2447, 0.6652])"
      ]
     },
     "execution_count": 15,
     "metadata": {},
     "output_type": "execute_result"
    }
   ],
   "source": [
    "class MySoftmaxStable(nn.Module):\n",
    "    def __init__(self):\n",
    "        super().__init__()\n",
    "    def forward(self, x):\n",
    "        c = max(x)\n",
    "        x_minus_c = x - c\n",
    "        x_minus_c_exp = torch.exp(x_minus_c)\n",
    "        partition = x_minus_c_exp.sum(0, keepdims=True)\n",
    "        return x_minus_c_exp / partition\n",
    "\n",
    "data = torch.Tensor([1,2,3])\n",
    "softmax_stable = MySoftmaxStable()\n",
    "output = softmax_stable(data)\n",
    "output"
   ]
  },
  {
   "cell_type": "markdown",
   "id": "6412e6a2",
   "metadata": {},
   "source": [
    "### Ex2: Ward & People Management Problem\n",
    "\n",
    "A Ward consists of:\n",
    "\n",
    "- name (string)\n",
    "- a list of people living in the ward.\n",
    "- A Person can be a Student, Doctor, or Teacher.\n",
    "\n",
    "A Student has:\n",
    "\n",
    "- name (string)\n",
    "\n",
    "- yob (int, year of birth)\n",
    "\n",
    "- grade (string)\n",
    "\n",
    "A Teacher has:\n",
    "\n",
    "-name (string)\n",
    "\n",
    "- yob (int, year of birth)\n",
    "\n",
    "- subject (string) \n",
    "\n",
    "A Doctor has:\n",
    "\n",
    "- name (string)\n",
    "\n",
    "- yob (int, year of birth)\n",
    "\n",
    "- specialist (string)\n",
    "\n",
    "Note: a list must be used to store the people in the Ward.\n",
    "\n",
    "Tasks\n",
    "(a) Class Implementation\n",
    "\n",
    "Implement the classes Student, Doctor, and Teacher as described above.\n",
    "Each class should have a describe() method that prints out all information of the object.\n",
    "\n",
    "(b) Add Person to Ward\n",
    "\n",
    "Write an add_person(person) method in the Ward class to add a new person (of any type: student, teacher, or doctor) to the ward’s people list.\n",
    "\n",
    "Create a Ward object, then add:\n",
    "\n",
    "- 1 student\n",
    "\n",
    "- 2 teachers\n",
    "\n",
    "- 2 doctors\n",
    "\n",
    "Call the describe() method to print the ward’s name and all information of each person in the ward.\n",
    "\n",
    "(c) Count Doctors\n",
    "\n",
    "Write a count_doctor() method to count the number of doctors in the ward.\n",
    "\n",
    "(d) Sort by Age\n",
    "\n",
    "Write a sort_age() method to sort all people in the ward by their age in ascending order.\n",
    "(Hint: you can use Python’s list.sort() or write a custom function.)\n",
    "\n",
    "(e) Compute Average Year of Birth of Teachers\n",
    "\n",
    "Write a compute_average() method to compute the average year of birth of all teachers in the ward."
   ]
  },
  {
   "cell_type": "code",
   "execution_count": 28,
   "id": "6747de64",
   "metadata": {},
   "outputs": [
    {
     "name": "stdout",
     "output_type": "stream",
     "text": [
      "Student - Name: studentA - YoB: 2010 - Grade: 7\n",
      "Teacher - Name: teacherA - YoB: 1969 - Subject: Math\n",
      "Doctor - Name: doctorA - YoB: 1945 - Specialist: Endocrinologists\n",
      "Ward Name: Ward1\n",
      "Student - Name: studentA - YoB: 2010 - Grade: 7\n",
      "Teacher - Name: teacherA - YoB: 1969 - Subject: Math\n",
      "Teacher - Name: teacherB - YoB: 1995 - Subject: History\n",
      "Doctor - Name: doctorA - YoB: 1945 - Specialist: Endocrinologists\n",
      "Doctor - Name: doctorB - YoB: 1975 - Specialist: Cardiologists\n",
      "\n",
      "Number of doctors: 2\n",
      "\n",
      "After sorting Age of Ward1 people\n",
      "Ward Name: Ward1\n",
      "Student - Name: studentA - YoB: 2010 - Grade: 7\n",
      "Teacher - Name: teacherB - YoB: 1995 - Subject: History\n",
      "Doctor - Name: doctorB - YoB: 1975 - Specialist: Cardiologists\n",
      "Teacher - Name: teacherA - YoB: 1969 - Subject: Math\n",
      "Doctor - Name: doctorA - YoB: 1945 - Specialist: Endocrinologists\n",
      "\n",
      "Average year of birth (techers): 1982.0\n"
     ]
    }
   ],
   "source": [
    "from abc import ABC, abstractmethod\n",
    "\n",
    "class Person(ABC):\n",
    "    def __init__(self, name:str, yob: int):\n",
    "        self._name = name\n",
    "        self._yob = yob\n",
    "    @abstractmethod\n",
    "    def describe(self):\n",
    "        pass\n",
    "    def getYoB(self):\n",
    "        return self._yob\n",
    "\n",
    "class Student(Person):\n",
    "    def __init__(self, name:str, yob:int, grade:str):\n",
    "        super().__init__(name=name, yob=yob)\n",
    "        self.__grade = grade\n",
    "    def describe(self):\n",
    "        print(f\"Student - Name: {self._name} - YoB: {self._yob} - Grade: {self.__grade}\")\n",
    "\n",
    "class Doctor(Person):\n",
    "    def __init__(self, name:str, yob:int, specialist:str):\n",
    "        super().__init__(name=name, yob=yob)\n",
    "        self.__specialist = specialist\n",
    "    def describe(self):\n",
    "        print(f\"Doctor - Name: {self._name} - YoB: {self._yob} - Specialist: {self.__specialist}\")\n",
    "    \n",
    "class Teacher(Person):\n",
    "    def __init__(self, name:str, yob:int, subject:str):\n",
    "        super().__init__(name=name, yob=yob)\n",
    "        self.__subject = subject\n",
    "    def describe(self):\n",
    "        print(f\"Teacher - Name: {self._name} - YoB: {self._yob} - Subject: {self.__subject}\")\n",
    "        \n",
    "class Ward():\n",
    "    def __init__(self, name:str):\n",
    "        self.__name = name\n",
    "        self.__listPeople = list()\n",
    "    def add_person(self, person: Person):\n",
    "        self.__listPeople.append(person)\n",
    "    def describe(self):\n",
    "        print(f\"Ward Name: {self.__name}\")\n",
    "        for p in self.__listPeople:\n",
    "            p.describe()\n",
    "    def count_doctors(self):\n",
    "        return sum(isinstance(p, Doctor) for p in self.__listPeople)\n",
    "    def sort_age(self):\n",
    "        self.__listPeople.sort(key=lambda x:x.getYoB(), reverse=True)\n",
    "    def compute_average(self):\n",
    "        teachers = (p.getYoB() for p in self.__listPeople if isinstance(p, Teacher))\n",
    "        teachers = list(teachers)\n",
    "        return sum(teachers) / len(teachers) if teachers else 0\n",
    "    \n",
    "\n",
    "student1 = Student(name=\"studentA\", yob=2010, grade=\"7\")\n",
    "teacher1 = Teacher(name=\"teacherA\", yob=1969, subject=\"Math\")\n",
    "doctor1 = Doctor(name=\"doctorA\", yob=1945, specialist=\"Endocrinologists\")\n",
    "student1.describe()\n",
    "teacher1.describe()\n",
    "doctor1.describe()\n",
    "teacher2 = Teacher (name = \"teacherB\", yob=1995, subject = \"History\")\n",
    "doctor2 = Doctor (name = \"doctorB\", yob=1975 ,specialist = \"Cardiologists\" )\n",
    "ward1 = Ward(name=\"Ward1\")\n",
    "ward1.add_person(student1)\n",
    "ward1.add_person(teacher1)\n",
    "ward1.add_person(teacher2)\n",
    "ward1.add_person(doctor1)\n",
    "ward1.add_person(doctor2)\n",
    "ward1.describe()\n",
    "print(f\"\\nNumber of doctors: {ward1.count_doctors()}\")\n",
    "print(\"\\nAfter sorting Age of Ward1 people\")\n",
    "ward1.sort_age()\n",
    "ward1.describe()\n",
    "print(f\"\\nAverage year of birth (techers): {ward1.compute_average()}\")\n"
   ]
  },
  {
   "cell_type": "markdown",
   "id": "355658bd",
   "metadata": {},
   "source": [
    "### Ex3: Implement Stack"
   ]
  },
  {
   "cell_type": "code",
   "execution_count": 33,
   "id": "104b6d4e",
   "metadata": {},
   "outputs": [
    {
     "name": "stdout",
     "output_type": "stream",
     "text": [
      "False\n",
      "2\n",
      "2\n",
      "1\n",
      "1\n",
      "True\n"
     ]
    }
   ],
   "source": [
    "class MyStack():\n",
    "    def __init__(self, capacity):\n",
    "        self.__capacity = capacity\n",
    "        self.__items = list()\n",
    "    def is_empty(self):\n",
    "        return len(self.__items) == 0\n",
    "    def is_full(self):\n",
    "        return len(self.__items) == self.__capacity\n",
    "    def push(self, data):\n",
    "        if self.is_full():\n",
    "            print(\"Stack is full\")\n",
    "            return\n",
    "        self.__items.append(data)\n",
    "    def pop(self):\n",
    "        if self.is_empty():\n",
    "            print(\"Stack is empty\")\n",
    "            return\n",
    "        return self.__items.pop()\n",
    "    def top(self):\n",
    "        if self.is_empty():\n",
    "            print(\"Stack is empty\")\n",
    "            return\n",
    "        return self.__items[-1]\n",
    "\n",
    "stack1 = MyStack(capacity=5)\n",
    "stack1.push(1)\n",
    "stack1.push(2)\n",
    "print(stack1.is_full())\n",
    "print(stack1.top())\n",
    "print(stack1.pop())\n",
    "print(stack1.top())\n",
    "print(stack1.pop())\n",
    "print(stack1.is_empty())"
   ]
  },
  {
   "cell_type": "code",
   "execution_count": null,
   "id": "cd88ca29",
   "metadata": {},
   "outputs": [],
   "source": []
  }
 ],
 "metadata": {
  "kernelspec": {
   "display_name": "venv",
   "language": "python",
   "name": "python3"
  },
  "language_info": {
   "codemirror_mode": {
    "name": "ipython",
    "version": 3
   },
   "file_extension": ".py",
   "mimetype": "text/x-python",
   "name": "python",
   "nbconvert_exporter": "python",
   "pygments_lexer": "ipython3",
   "version": "3.12.4"
  }
 },
 "nbformat": 4,
 "nbformat_minor": 5
}
