{
 "cells": [
  {
   "cell_type": "markdown",
   "id": "871da0fb",
   "metadata": {},
   "source": [
    "### Ex1:\n",
    "\n",
    "Sliding Window Maximum\n",
    "\n",
    "Given an integer list num_list and a sliding window of size k.\n",
    "The window moves from left to right, shifting one position at a time.\n",
    "At each step, find the maximum value among the k numbers inside the window.\n",
    "\n",
    "Condition:\n",
    "\n",
    "k >= 1\n",
    "\n",
    "Input\n",
    "num_list = [3, 4, 5, 1, -44, 5, 10, 12, 33, 1]\n",
    "k = 3\n",
    "\n",
    "Output\n",
    "[5, 5, 5, 5, 10, 12, 33, 33]"
   ]
  },
  {
   "cell_type": "code",
   "execution_count": 2,
   "id": "a68cfa1d",
   "metadata": {},
   "outputs": [
    {
     "name": "stdout",
     "output_type": "stream",
     "text": [
      "[5, 5, 5, 5, 10, 12, 33, 33]\n"
     ]
    }
   ],
   "source": [
    "def get_max_over_kernel(num_list, k):\n",
    "    n = len(num_list)\n",
    "    result = []\n",
    "    for i in range(0, n - k + 1):\n",
    "        kernelArray = num_list[i: i + k]\n",
    "        result.append(max(kernelArray))\n",
    "    return result\n",
    "\n",
    "num_list = [3, 4, 5, 1, -44, 5, 10, 12, 33, 1]\n",
    "k = 3\n",
    "print(get_max_over_kernel(num_list=num_list, k=k))"
   ]
  },
  {
   "cell_type": "markdown",
   "id": "978b5a14",
   "metadata": {},
   "source": [
    "### Ex2: \n",
    "\n",
    "Problem: Count Characters in a Word\n",
    "\n",
    "Description\n",
    "\n",
    "Write a function that returns a dictionary counting the number of times each character appears in a given word.\n",
    "The key of the dictionary should be the character.\n",
    "The value should be the number of times it appears.\n",
    "\n",
    "Input\n",
    "\n",
    "A single word (string).\n",
    "Assume the word only contains characters in [a-z] or [A-Z].\n",
    "\n",
    "Output\n",
    "\n",
    "A dictionary mapping each character to its frequency in the word."
   ]
  },
  {
   "cell_type": "code",
   "execution_count": null,
   "id": "f23f60f3",
   "metadata": {},
   "outputs": [
    {
     "name": "stdout",
     "output_type": "stream",
     "text": [
      "{'p': 2, 'a': 3, 'r': 1, 'h': 1, 's': 1, 'e': 1}\n"
     ]
    }
   ],
   "source": [
    "def count_characters(word):\n",
    "    char_dict = {}\n",
    "    for letter in word:\n",
    "        if letter in char_dict:\n",
    "            char_dict[letter] += 1\n",
    "        else:\n",
    "            char_dict[letter] = 1\n",
    "    return char_dict\n",
    "\n",
    "word = \"paraphase\"\n",
    "print(count_characters(word=word))"
   ]
  },
  {
   "cell_type": "code",
   "execution_count": 15,
   "id": "1f4b89eb",
   "metadata": {},
   "outputs": [
    {
     "name": "stdout",
     "output_type": "stream",
     "text": [
      "{'he': 1, 'who': 3, 'conquers': 1, 'himself': 1, 'is': 3, 'the': 5, 'mightiest': 1, 'warrior': 1, 'try': 2, 'not': 1, 'to': 3, 'become': 2, 'a': 7, 'man': 6, 'of': 4, 'success': 3, 'but': 1, 'rather': 1, 'value': 1, 'one': 4, 'with': 4, 'courage': 1, 'makes': 1, 'majority': 1, 'secret': 1, 'in': 4, 'life': 2, 'for': 3, 'be': 1, 'ready': 1, 'his': 2, 'opportunity': 1, 'when': 2, 'it': 2, 'comes': 2, 'successful': 2, 'will': 2, 'profit': 1, 'from': 1, 'mistakes': 1, 'and': 1, 'again': 1, 'different': 1, 'way': 1, 'can': 3, 'lay': 1, 'firm': 1, 'foundation': 1, 'bricks': 1, 'others': 1, 'have': 1, 'thrown': 1, 'at': 1, 'him': 1, 'usually': 1, 'those': 1, 'are': 1, 'too': 1, 'busy': 1, 'looking': 1, 'we': 3, 'cannot': 1, 'solve': 1, 'problems': 1, 'kind': 1, 'thinking': 1, 'employed': 1, 'came': 1, 'up': 1, 'them': 1, 'just': 2, 'small': 1, 'positive': 1, 'thought': 1, 'morning': 1, 'change': 1, 'your': 1, 'whole': 1, 'day': 1, 'you': 3, 'get': 2, 'everything': 1, 'want': 2, 'if': 1, 'help': 1, 'enough': 1, 'other': 1, 'people': 1, 'what': 1, 'they': 1}\n"
     ]
    }
   ],
   "source": [
    "import string\n",
    "\n",
    "file_path = 'P1_data.txt'\n",
    "\n",
    "def count_words(file_path):\n",
    "    with open(file_path, \"r\") as f:\n",
    "        content = f.read()\n",
    "        content = content.lower()\n",
    "        content = content.translate(str.maketrans(\"\", \"\", string.punctuation))\n",
    "        words = content.split()\n",
    "    word_dict = {}\n",
    "    for word in words:\n",
    "        word_dict[word] = word_dict.get(word, 0) + 1\n",
    "    return word_dict\n",
    "print(count_words(file_path=file_path))\n"
   ]
  },
  {
   "cell_type": "markdown",
   "id": "f527fc0c",
   "metadata": {},
   "source": [
    "### Ex4: Levenshtein Distance\n",
    "\n",
    "The Levenshtein distance (also called edit distance) is the minimum number of single-character edits required to transform one string into another.\n",
    "The allowed operations are:\n",
    "\n",
    "Insertion of a character\n",
    "\n",
    "Deletion of a character\n",
    "\n",
    "Substitution of one character for another\n",
    "\n",
    "This distance is widely used in applications such as spell checkers, DNA sequence analysis, and fuzzy string matching.\n",
    "\n",
    "**Example**\n",
    "\n",
    "The Levenshtein distance between \"kitten\" and \"sitting\" is 3:\n",
    "\n",
    "kitten → sitten (substitute \"k\" with \"s\")\n",
    "\n",
    "sitten → sittin (substitute \"e\" with \"i\")\n",
    "\n",
    "sittin → sitting (insert \"g\")\n",
    "\n",
    "So the minimum number of edits is 3."
   ]
  },
  {
   "cell_type": "code",
   "execution_count": null,
   "id": "c8b774c3",
   "metadata": {},
   "outputs": [],
   "source": []
  }
 ],
 "metadata": {
  "kernelspec": {
   "display_name": "Python (venv)",
   "language": "python",
   "name": "venv"
  },
  "language_info": {
   "codemirror_mode": {
    "name": "ipython",
    "version": 3
   },
   "file_extension": ".py",
   "mimetype": "text/x-python",
   "name": "python",
   "nbconvert_exporter": "python",
   "pygments_lexer": "ipython3",
   "version": "3.12.4"
  }
 },
 "nbformat": 4,
 "nbformat_minor": 5
}
