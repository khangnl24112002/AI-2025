{
 "cells": [
  {
   "cell_type": "markdown",
   "id": "53ca5091",
   "metadata": {},
   "source": [
    "### Ex1: Khởi tạo List và truy xuất các phần tử thông qua chỉ số (index)\n",
    "\n",
    "• Câu 1: Tạo mới 1 List gồm các số từ 1 đến 10.\n",
    "\n",
    "• Câu 2: In ra kết quả 5 phần tử đầu tiên có trong List trên\n",
    "\n",
    "• Câu 3: In ra kết quả phần tử có giá trị không chia hết cho 2 (dùng kết hợp với vòng lặp for)\n",
    "\n",
    "• Câu 4: In ra kết quả tổng các giá trị trong list (dùng kết hợp với vòng lặp for)\n"
   ]
  },
  {
   "cell_type": "code",
   "execution_count": 3,
   "id": "07c801ef",
   "metadata": {},
   "outputs": [
    {
     "name": "stdout",
     "output_type": "stream",
     "text": [
      "[1, 2, 3, 4, 5]\n",
      "[1, 3, 5, 7, 9]\n",
      "55\n"
     ]
    }
   ],
   "source": [
    "lst_data = [1, 2, 3, 4, 5, 6, 7, 8, 9, 10]\n",
    "print(lst_data[:5])\n",
    "print([lst_data[i] for i in range(len(lst_data)) if lst_data[i] % 2 !=0])\n",
    "print(sum(lst_data))"
   ]
  },
  {
   "cell_type": "markdown",
   "id": "eecd4d63",
   "metadata": {},
   "source": [
    "### Ex2: Khởi tạo List và thao tác thêm xóa sửa trên List\n",
    "\n",
    "• Câu 1: Tạo mới một List có tên là lst_data, gồm các số chẵn từ 1 đến 12.\n",
    "\n",
    "• Câu 2: Xóa tất cả các số chia hết cho 3 trong lst_data vừa tạo\n",
    "\n",
    "• Câu 3: Thêm vào cuối lst_data các số từ 1 đến 3, và thêm vào vị trí index = 3 một chuỗi các số từ 6 đến 8\n",
    "\n",
    "• Câu 4: Nếu các số trong list lst_data chia hết cho 2 hoặc chia hết cho 5 thì cập nhật thành số 0\n"
   ]
  },
  {
   "cell_type": "code",
   "execution_count": 4,
   "id": "5b50651a",
   "metadata": {},
   "outputs": [
    {
     "data": {
      "text/plain": [
       "[0, 0, 0, 0, 7, 0, 0, 1, 0, 3]"
      ]
     },
     "execution_count": 4,
     "metadata": {},
     "output_type": "execute_result"
    }
   ],
   "source": [
    "lst_data = list(range(2, 13, 2))\n",
    "lst_data = [x for x in lst_data if x % 3 != 0]\n",
    "lst_data.extend([1, 2, 3])\n",
    "lst_data[3:3] = [6, 7, 8]\n",
    "lst_data = [0 if x % 2 == 0 or x % 5 == 0 else x for x in lst_data]\n",
    "lst_data"
   ]
  },
  {
   "cell_type": "markdown",
   "id": "6d8476d8",
   "metadata": {},
   "source": [
    "### Ex3:\n",
    "\n",
    "Yêu cầu và ý tưởng: Cho một list hãy trả về các số armstrong bên trong list đó.\n"
   ]
  },
  {
   "cell_type": "code",
   "execution_count": 5,
   "id": "ef3c7fda",
   "metadata": {},
   "outputs": [
    {
     "name": "stdout",
     "output_type": "stream",
     "text": [
      "Result: [153, 407, 371, 370]\n"
     ]
    }
   ],
   "source": [
    "test_case_1 = [130 , 270 , 153 , 407 , 177 , 371 , 1000 , 1634 , 370]\n",
    "result = []\n",
    "\n",
    "def is_amstrong_number(num):\n",
    "    sum = 0\n",
    "    temp = num\n",
    "    while temp > 0:\n",
    "        digit = temp % 10\n",
    "        temp //= 10\n",
    "        sum += digit ** 3\n",
    "    return sum == num\n",
    "\n",
    "for num in test_case_1:\n",
    "    if is_amstrong_number(num):\n",
    "        result.append(num)\n",
    "\n",
    "print(f\"Result: {result}\")"
   ]
  },
  {
   "cell_type": "markdown",
   "id": "a2deaa79",
   "metadata": {},
   "source": [
    "### Ex4:\n",
    "\n",
    "Có n người, Bạn được cho một list với n phần tử (với ni là số lượng kẹo của người\n",
    "đó) và một số extra_candies. Viết hàm trả về một boolean list với chiều dài n, với phần tử thứ ni là true nếu số kẹo của người ni cộng với extra_candies sẽ thành người có nhiều kẹo nhất, ngược lại trả về false.\n"
   ]
  },
  {
   "cell_type": "code",
   "execution_count": 6,
   "id": "cd78bc1c",
   "metadata": {},
   "outputs": [
    {
     "name": "stdout",
     "output_type": "stream",
     "text": [
      "[True, True, True, False, True]\n",
      "[True, False, False, False, False]\n"
     ]
    }
   ],
   "source": [
    "def kidsWithCandies(candies, extraCandies):\n",
    "    maxCandies = max(candies)\n",
    "    return [c + extraCandies >= maxCandies for c in candies]\n",
    "\n",
    "test_case_1 = [2, 3, 5, 1, 3]\n",
    "test_case_2 = [4, 2, 1, 1, 2]\n",
    "print(kidsWithCandies(test_case_1, 3))\n",
    "print(kidsWithCandies(test_case_2, 1))"
   ]
  },
  {
   "cell_type": "markdown",
   "id": "6e971145",
   "metadata": {},
   "source": [
    "### Ex5:\n",
    "\n",
    "Câu 1: Tạo mới một List có tên là lst_data, gồm các số từ 1 đến 10.\n",
    "\n",
    "Câu 2: Tính giá trị trung vị từ lst_data vừa tạo. (Không sử dụng numpy)\n",
    "\n",
    "Câu 3: Lọc các giá trị số lẻ trong lst_data và lưu ra list mới có tên là: lst_odd_filter\n",
    "với thứ tự giảm dần (Sử dụng phương thức reverse=True trong hàm sort/sorted).\n"
   ]
  },
  {
   "cell_type": "code",
   "execution_count": 31,
   "id": "ade92e1f",
   "metadata": {},
   "outputs": [
    {
     "name": "stdout",
     "output_type": "stream",
     "text": [
      "5.5\n"
     ]
    }
   ],
   "source": [
    "lst_data = [1, 2, 3, 4, 5, 6, 7, 8, 9, 10]\n",
    "\n",
    "def getMedianNumber(numArray):\n",
    "    sortedArray = sorted(numArray, reverse=True)\n",
    "    n = len(numArray)\n",
    "    mid = n // 2\n",
    "    if n % 2 == 0:\n",
    "        return (sortedArray[mid - 1] + sortedArray[mid])/2\n",
    "    else:\n",
    "        return sortedArray[mid]\n",
    "\n",
    "print(getMedianNumber(lst_data))"
   ]
  }
 ],
 "metadata": {
  "kernelspec": {
   "display_name": "Python (venv)",
   "language": "python",
   "name": "venv"
  },
  "language_info": {
   "codemirror_mode": {
    "name": "ipython",
    "version": 3
   },
   "file_extension": ".py",
   "mimetype": "text/x-python",
   "name": "python",
   "nbconvert_exporter": "python",
   "pygments_lexer": "ipython3",
   "version": "3.12.4"
  }
 },
 "nbformat": 4,
 "nbformat_minor": 5
}
