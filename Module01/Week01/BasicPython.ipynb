{
 "cells": [
  {
   "cell_type": "markdown",
   "id": "bafb3136",
   "metadata": {},
   "source": [
    "### Ex1:"
   ]
  },
  {
   "cell_type": "code",
   "execution_count": 6,
   "id": "22b380f5",
   "metadata": {},
   "outputs": [
    {
     "name": "stdout",
     "output_type": "stream",
     "text": [
      "Precision: 0.3333333333333333; Recall: 0.25; F1 Score: 0.28571428571428575\n",
      "Precision: 0.7142857142857143; Recall: 0.8333333333333334; F1 Score: 0.7692307692307692\n"
     ]
    }
   ],
   "source": [
    "def calculate_F1_score(tp, fp, fn):\n",
    "    if not all(isinstance(x, int) for x in (tp, fp, fn)):\n",
    "        raise TypeError(\"tp, fp, fn must be an integer\")\n",
    "    if not all(x > 0 for x in (tp, fp, fn)):\n",
    "        raise TypeError(\"tp, fp, fn must be larger than zero\")\n",
    "    precision = tp / (tp + fp)\n",
    "    recall = tp / (tp + fn)\n",
    "    f1_score = 2 * (precision * recall) / (precision + recall)\n",
    "    print(f\"Precision: {precision}; Recall: {recall}; F1 Score: {f1_score}\")\n",
    "\n",
    "calculate_F1_score(100, 200, 300)\n",
    "calculate_F1_score(500, 200, 100)"
   ]
  },
  {
   "cell_type": "markdown",
   "id": "a020baaa",
   "metadata": {},
   "source": [
    "### Ex2:"
   ]
  },
  {
   "cell_type": "code",
   "execution_count": 14,
   "id": "0b24fe91",
   "metadata": {},
   "outputs": [
    {
     "name": "stdout",
     "output_type": "stream",
     "text": [
      "elu: f(-3) = -0.009502129316321361\n"
     ]
    }
   ],
   "source": [
    "import math\n",
    "\n",
    "alpha = 0.01\n",
    "\n",
    "def is_number(n):\n",
    "    try:\n",
    "        float(n)\n",
    "    except ValueError:\n",
    "        return False\n",
    "    return True\n",
    "\n",
    "def calculate_activation_function(x, activation_function):\n",
    "    if not is_number(x):\n",
    "        print('x must be a number')\n",
    "        return\n",
    "    match (activation_function):\n",
    "        case 'sigmoid':\n",
    "            result = 1 + 1/(math.e) ** (-x)\n",
    "        case 'relu':\n",
    "            if x <= 0:\n",
    "                result = 0\n",
    "            else:\n",
    "                result = x\n",
    "        case 'elu':\n",
    "            if x > 0:\n",
    "                result = x\n",
    "            else:\n",
    "                result = alpha * (math.e ** x - 1)\n",
    "        case _:\n",
    "            print(f\"{activation_function} is not supported\")\n",
    "            return\n",
    "    print(f\"{activation_function}: f({x}) = {result}\")\n",
    "\n",
    "x = int(input(\"Input x: \"))\n",
    "activation_function = str(input(\"Input activation function: \"))\n",
    "calculate_activation_function(x = -3, activation_function='elu')\n"
   ]
  },
  {
   "cell_type": "markdown",
   "id": "c8ad0f7c",
   "metadata": {},
   "source": [
    "### Ex3:"
   ]
  },
  {
   "cell_type": "code",
   "execution_count": 18,
   "id": "d645fe2a",
   "metadata": {},
   "outputs": [
    {
     "name": "stdout",
     "output_type": "stream",
     "text": [
      "loss name: MAE , sample: 0 , pred: 2.270520427888626 , target: 6.7141525613439335 , loss: 4.443632133455307\n",
      "loss name: MAE , sample: 1 , pred: 2.0443089419852423 , target: 2.5951578435178435 , loss: 2.497240517493954\n",
      "loss name: MAE , sample: 2 , pred: 5.494708872599259 , target: 8.294381748617734 , loss: 2.598051303668795\n",
      "loss name: MAE , sample: 3 , pred: 9.409903518836629 , target: 4.695524589281587 , loss: 3.1271332101403564\n",
      "loss name: MAE , sample: 4 , pred: 1.3533023576408398 , target: 6.80766922553722 , loss: 3.592579941691561\n",
      "loss name: MAE , sample: 5 , pred: 4.598406246105881 , target: 3.0624920517813905 , loss: 3.2498023171303827\n",
      "loss name: MAE , sample: 6 , pred: 5.832091396671764 , target: 2.194961603798795 , loss: 3.305134813665038\n",
      "loss name: MAE , sample: 7 , pred: 1.0492070638866346 , target: 0.6491848059742211 , loss: 2.94199574419596\n",
      "loss name: MAE , sample: 8 , pred: 9.519431231471238 , target: 2.283940626875479 , loss: 3.419050728684826\n",
      "loss name: MAE , sample: 9 , pred: 5.18502383138443 , target: 4.398706758030141 , loss: 3.1557773631517727\n",
      "\n",
      "final MAE : 3.1557773631517727\n"
     ]
    }
   ],
   "source": [
    "import random\n",
    "import math\n",
    "\n",
    "min_value = 0\n",
    "max_value = 10\n",
    "def calculate_loss(n, loss_name):\n",
    "    if not is_number(n):\n",
    "        print('n must be a number')\n",
    "        return\n",
    "    predict = []\n",
    "    target = []\n",
    "    for i in range(n):\n",
    "        predict.append(random.uniform(min_value, max_value))\n",
    "        target.append(random.uniform(min_value, max_value))\n",
    "        match (loss_name):\n",
    "            case 'MAE':\n",
    "                loss = sum(abs(p - t) for p, t in zip(predict, target)) / len(predict)\n",
    "            case 'MSE':\n",
    "                loss = sum((p - t) ** 2 for p, t in zip(predict, target)) / len(predict)\n",
    "            case 'RMSE':\n",
    "                loss = math.sqrt((sum((p - t) ** 2 for p, t in zip(predict, target)) / len(predict)))\n",
    "            case _:\n",
    "                print(f\"Loss function {loss_name} is not exist\")\n",
    "                return\n",
    "        print(f\"loss name: {loss_name} , sample: {i} , pred: {predict[-1]} , target: {target[-1]} , loss: {loss}\")\n",
    "    print(f\"\\nfinal {loss_name} : {loss}\")\n",
    "\n",
    "n = int(input(\"Enter the number of sample: \"))\n",
    "loss_name = str(input(\"Enter the loss name\"))\n",
    "calculate_loss(n, loss_name)\n",
    "        "
   ]
  },
  {
   "cell_type": "markdown",
   "id": "a55d2af2",
   "metadata": {},
   "source": [
    "### Ex4:"
   ]
  },
  {
   "cell_type": "code",
   "execution_count": 21,
   "id": "cc5e7e7b",
   "metadata": {},
   "outputs": [
    {
     "name": "stdout",
     "output_type": "stream",
     "text": [
      "0.0015926523931607442\n",
      "-0.9999987352210833\n",
      "11.530292029865986\n",
      "11.573574824666185\n"
     ]
    }
   ],
   "source": [
    "import math\n",
    "\n",
    "def approx_sin(x, n):\n",
    "    return sum((-1)**i * (x**(2 * i + 1))/math.factorial(2 * i + 1) for i in range(n))\n",
    "def approx_cos(x, n):\n",
    "    return sum((-1)**i * (x**(2 * i)) / math.factorial(2 * i) for i in range(n))\n",
    "def approx_sinh(x, n):\n",
    "    return sum(x**(2 * i + 1) / math.factorial(2 * i + 1) for i in range(n))\n",
    "def approx_cosh(x, n):\n",
    "    return sum(x ** (2 * i) / math.factorial(2 * i) for i in range(n))\n",
    "\n",
    "print(approx_sin(3.14, 10))\n",
    "print(approx_cos(3.14, 10))\n",
    "print(approx_sinh(3.14, 10))\n",
    "print(approx_cosh(3.14, 10))"
   ]
  },
  {
   "cell_type": "markdown",
   "id": "0c7b0de3",
   "metadata": {},
   "source": [
    "### Ex5:"
   ]
  },
  {
   "cell_type": "code",
   "execution_count": 22,
   "id": "4105f63c",
   "metadata": {},
   "outputs": [
    {
     "data": {
      "text/plain": [
       "0.025031328369998107"
      ]
     },
     "execution_count": 22,
     "metadata": {},
     "output_type": "execute_result"
    }
   ],
   "source": [
    "def md_nre_single_sample(y, y_hat, n, p):\n",
    "    return (y ** (1/n) - y_hat ** (1/n)) ** p\n",
    "\n",
    "md_nre_single_sample(y = 100, y_hat = 99.5, n = 2, p = 1)"
   ]
  },
  {
   "cell_type": "code",
   "execution_count": null,
   "id": "b386d955",
   "metadata": {},
   "outputs": [],
   "source": []
  }
 ],
 "metadata": {
  "kernelspec": {
   "display_name": "Python (venv)",
   "language": "python",
   "name": "venv"
  },
  "language_info": {
   "codemirror_mode": {
    "name": "ipython",
    "version": 3
   },
   "file_extension": ".py",
   "mimetype": "text/x-python",
   "name": "python",
   "nbconvert_exporter": "python",
   "pygments_lexer": "ipython3",
   "version": "3.12.4"
  }
 },
 "nbformat": 4,
 "nbformat_minor": 5
}
